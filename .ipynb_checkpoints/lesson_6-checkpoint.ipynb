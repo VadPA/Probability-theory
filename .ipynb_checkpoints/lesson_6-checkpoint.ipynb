{
 "cells": [
  {
   "cell_type": "code",
   "execution_count": 1,
   "id": "adbcd918",
   "metadata": {},
   "outputs": [],
   "source": [
    "import numpy as np"
   ]
  },
  {
   "cell_type": "code",
   "execution_count": 2,
   "id": "357cb14e",
   "metadata": {},
   "outputs": [],
   "source": [
    "X1=np.array([35,45,190,200,40,70,54,150,120,110])\n",
    "X2=np.array([401,574,874,919,459,739,653,902,746,832])"
   ]
  },
  {
   "cell_type": "markdown",
   "id": "42c06419",
   "metadata": {},
   "source": [
    "### Коэффициент ковариации для X1 и X2 рассчитанный \"вручную\""
   ]
  },
  {
   "cell_type": "code",
   "execution_count": 3,
   "id": "a4cc349b",
   "metadata": {},
   "outputs": [
    {
     "data": {
      "text/plain": [
       "9157.839999999997"
      ]
     },
     "execution_count": 3,
     "metadata": {},
     "output_type": "execute_result"
    }
   ],
   "source": [
    "cov=np.mean(X1*X2)-np.mean(X1)*np.mean(X2)\n",
    "cov"
   ]
  },
  {
   "cell_type": "markdown",
   "id": "6b1e8d16",
   "metadata": {},
   "source": [
    "### Коэффициент ковариации для X1 и X2  с несмещенными оценками"
   ]
  },
  {
   "cell_type": "code",
   "execution_count": 4,
   "id": "d2600525",
   "metadata": {},
   "outputs": [
    {
     "data": {
      "text/plain": [
       "array([[ 3882.93333333, 10175.37777778],\n",
       "       [10175.37777778, 33854.32222222]])"
      ]
     },
     "execution_count": 4,
     "metadata": {},
     "output_type": "execute_result"
    }
   ],
   "source": [
    "cov1=np.cov(X1,X2,ddof=1)\n",
    "cov1"
   ]
  },
  {
   "cell_type": "markdown",
   "id": "a361a8d2",
   "metadata": {},
   "source": [
    "### Коэффициент ковариации для X1 и X2  со смещенными оценками"
   ]
  },
  {
   "cell_type": "code",
   "execution_count": 5,
   "id": "bf41b1e8",
   "metadata": {},
   "outputs": [
    {
     "data": {
      "text/plain": [
       "array([[ 3494.64,  9157.84],\n",
       "       [ 9157.84, 30468.89]])"
      ]
     },
     "execution_count": 5,
     "metadata": {},
     "output_type": "execute_result"
    }
   ],
   "source": [
    "cov2=np.cov(X1,X2,ddof=0)\n",
    "cov2"
   ]
  },
  {
   "cell_type": "markdown",
   "id": "4f977e18",
   "metadata": {},
   "source": [
    "### Коэффициент корреляции для X1 и X2 "
   ]
  },
  {
   "cell_type": "code",
   "execution_count": 7,
   "id": "d4f9b4e9",
   "metadata": {},
   "outputs": [
    {
     "data": {
      "text/plain": [
       "array([[1.        , 0.88749009],\n",
       "       [0.88749009, 1.        ]])"
      ]
     },
     "execution_count": 7,
     "metadata": {},
     "output_type": "execute_result"
    }
   ],
   "source": [
    "coef_corr=np.corrcoef(X1,X2)\n",
    "coef_corr"
   ]
  },
  {
   "cell_type": "markdown",
   "id": "641f9da6",
   "metadata": {},
   "source": [
    "### смещенные стандартные отклонения для X1 и X2"
   ]
  },
  {
   "cell_type": "code",
   "execution_count": 8,
   "id": "56d3bf7d",
   "metadata": {},
   "outputs": [
    {
     "data": {
      "text/plain": [
       "59.115480206118605"
      ]
     },
     "execution_count": 8,
     "metadata": {},
     "output_type": "execute_result"
    }
   ],
   "source": [
    "s_x1=np.std(X1)\n",
    "s_x1"
   ]
  },
  {
   "cell_type": "code",
   "execution_count": 9,
   "id": "c97c1fd0",
   "metadata": {},
   "outputs": [
    {
     "data": {
      "text/plain": [
       "174.55340157098058"
      ]
     },
     "execution_count": 9,
     "metadata": {},
     "output_type": "execute_result"
    }
   ],
   "source": [
    "s_x2=np.std(X2)\n",
    "s_x2"
   ]
  },
  {
   "cell_type": "markdown",
   "id": "46af323c",
   "metadata": {},
   "source": [
    "### несмещенные стандартные отклонения для X1 и X2"
   ]
  },
  {
   "cell_type": "code",
   "execution_count": 25,
   "id": "5eda2a58",
   "metadata": {},
   "outputs": [
    {
     "data": {
      "text/plain": [
       "62.31318747531162"
      ]
     },
     "execution_count": 25,
     "metadata": {},
     "output_type": "execute_result"
    }
   ],
   "source": [
    "sn_x1=np.std(X1,ddof=1)\n",
    "sn_x1"
   ]
  },
  {
   "cell_type": "code",
   "execution_count": 11,
   "id": "cc56c8d2",
   "metadata": {},
   "outputs": [
    {
     "data": {
      "text/plain": [
       "183.99544076477068"
      ]
     },
     "execution_count": 11,
     "metadata": {},
     "output_type": "execute_result"
    }
   ],
   "source": [
    "sn_x2=np.std(X2,ddof=1)\n",
    "sn_x2"
   ]
  },
  {
   "cell_type": "markdown",
   "id": "12b4d560",
   "metadata": {},
   "source": [
    "### Коэффициент Пирсона для X1 и X2 "
   ]
  },
  {
   "cell_type": "markdown",
   "id": "f723763e",
   "metadata": {},
   "source": [
    "#### с несмещенными оценками"
   ]
  },
  {
   "cell_type": "code",
   "execution_count": 19,
   "id": "3c0d8b33",
   "metadata": {},
   "outputs": [
    {
     "data": {
      "text/plain": [
       "0.8874900920739162"
      ]
     },
     "execution_count": 19,
     "metadata": {},
     "output_type": "execute_result"
    }
   ],
   "source": [
    "cn_Pirs=cov1[1,0]/(sn_x1*sn_x2)\n",
    "cn_Pirs"
   ]
  },
  {
   "cell_type": "markdown",
   "id": "8cd195cb",
   "metadata": {},
   "source": [
    "#### со смещенными оценками"
   ]
  },
  {
   "cell_type": "code",
   "execution_count": 20,
   "id": "7ad4f800",
   "metadata": {},
   "outputs": [
    {
     "data": {
      "text/plain": [
       "0.8874900920739163"
      ]
     },
     "execution_count": 20,
     "metadata": {},
     "output_type": "execute_result"
    }
   ],
   "source": [
    "c_Pirs=cov2[1,0]/(np.std(X1,ddof=0)*np.std(X2,ddof=0))\n",
    "c_Pirs"
   ]
  },
  {
   "cell_type": "code",
   "execution_count": null,
   "id": "a1af2982",
   "metadata": {},
   "outputs": [],
   "source": []
  }
 ],
 "metadata": {
  "kernelspec": {
   "display_name": "Python 3",
   "language": "python",
   "name": "python3"
  },
  "language_info": {
   "codemirror_mode": {
    "name": "ipython",
    "version": 3
   },
   "file_extension": ".py",
   "mimetype": "text/x-python",
   "name": "python",
   "nbconvert_exporter": "python",
   "pygments_lexer": "ipython3",
   "version": "3.8.8"
  }
 },
 "nbformat": 4,
 "nbformat_minor": 5
}
