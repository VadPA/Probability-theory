{
 "cells": [
  {
   "cell_type": "code",
   "execution_count": 83,
   "id": "f8d9698d",
   "metadata": {},
   "outputs": [],
   "source": [
    "import numpy as np"
   ]
  },
  {
   "cell_type": "code",
   "execution_count": 84,
   "id": "7f906b3e",
   "metadata": {},
   "outputs": [],
   "source": [
    "X1=np.array([173, 175, 180, 178, 177, 185, 183, 182])\n",
    "X2=np.array([177, 179, 180, 188, 177, 172, 171, 184, 180])\n",
    "X3=np.array([172, 173, 169, 177, 166, 180, 178, 177, 172, 166, 170])"
   ]
  },
  {
   "cell_type": "code",
   "execution_count": 85,
   "id": "978363b8",
   "metadata": {},
   "outputs": [],
   "source": [
    "# кол-во групп\n",
    "k=3\n",
    "# размерности групп\n",
    "n1=X1.size\n",
    "n2=X2.size\n",
    "n3=X3.size\n",
    "# суммарное наблюдений по группам\n",
    "n=n1+n2+n3"
   ]
  },
  {
   "cell_type": "code",
   "execution_count": 86,
   "id": "74ef971e",
   "metadata": {},
   "outputs": [
    {
     "data": {
      "text/plain": [
       "(179.125, 178.66666666666666, 172.72727272727272)"
      ]
     },
     "execution_count": 86,
     "metadata": {},
     "output_type": "execute_result"
    }
   ],
   "source": [
    "# среднии значения по группам\n",
    "x1_m=np.mean(X1)\n",
    "x2_m=np.mean(X2)\n",
    "x3_m=np.mean(X3)\n",
    "x1_m, x2_m, x3_m"
   ]
  },
  {
   "cell_type": "code",
   "execution_count": 87,
   "id": "3e2d7d86",
   "metadata": {},
   "outputs": [
    {
     "data": {
      "text/plain": [
       "176.46428571428572"
      ]
     },
     "execution_count": 87,
     "metadata": {},
     "output_type": "execute_result"
    }
   ],
   "source": [
    "# среднее значение по всем наблюдениям\n",
    "x_m=(np.sum(X1)+np.sum(X2)+np.sum(X3))/n\n",
    "x_m"
   ]
  },
  {
   "cell_type": "code",
   "execution_count": 88,
   "id": "18339a72",
   "metadata": {},
   "outputs": [
    {
     "data": {
      "text/plain": [
       "(179.125, 178.66666666666666, 172.72727272727272)"
      ]
     },
     "execution_count": 88,
     "metadata": {},
     "output_type": "execute_result"
    }
   ],
   "source": [
    "# вектор средних значений по группам\n",
    "X_m=x1_m, x2_m, x3_m\n",
    "X_m"
   ]
  },
  {
   "cell_type": "code",
   "execution_count": 89,
   "id": "00f4af43",
   "metadata": {},
   "outputs": [],
   "source": [
    "# сумма квадратов отклонений наблюдений от среднего значения\n",
    "def SS(x,x_mean):\n",
    "    return np.sum(np.square([xi-x_mean for xi in x]))"
   ]
  },
  {
   "cell_type": "code",
   "execution_count": 90,
   "id": "1667895d",
   "metadata": {},
   "outputs": [
    {
     "name": "stdout",
     "output_type": "stream",
     "text": [
      "175.5102040816323\n"
     ]
    }
   ],
   "source": [
    "print(SS(X1,x_m))"
   ]
  },
  {
   "cell_type": "code",
   "execution_count": 91,
   "id": "9f60784d",
   "metadata": {},
   "outputs": [
    {
     "data": {
      "text/plain": [
       "830.9642857142858"
      ]
     },
     "execution_count": 91,
     "metadata": {},
     "output_type": "execute_result"
    }
   ],
   "source": [
    "# сумма квадратов отклонений наблюдений от среднего значения\n",
    "S2=SS(X1,x_m) + SS(X2,x_m) + SS(X3,x_m)\n",
    "S2"
   ]
  },
  {
   "cell_type": "code",
   "execution_count": 92,
   "id": "4c672db1",
   "metadata": {},
   "outputs": [],
   "source": [
    "# сумма квадратов отклонений средних значений от общего среднего значения\n",
    "def SSF(x,x_mean,N):\n",
    "    return np.sum(np.square([xi-x_mean for xi in x])*N)"
   ]
  },
  {
   "cell_type": "code",
   "execution_count": 93,
   "id": "54af4538",
   "metadata": {},
   "outputs": [
    {
     "data": {
      "text/plain": [
       "(8, 9, 11)"
      ]
     },
     "execution_count": 93,
     "metadata": {},
     "output_type": "execute_result"
    }
   ],
   "source": [
    "# вектор размерности групп\n",
    "N_x=X1.size,X2.size,X3.size\n",
    "N_x"
   ]
  },
  {
   "cell_type": "code",
   "execution_count": 94,
   "id": "83823c9c",
   "metadata": {},
   "outputs": [
    {
     "data": {
      "text/plain": [
       "253.9074675324678"
      ]
     },
     "execution_count": 94,
     "metadata": {},
     "output_type": "execute_result"
    }
   ],
   "source": [
    "# сумма квадратов отклонений средних групповых значений от общего среднего значения\n",
    "SS_F_x=SSF(X_m,x_m,N_x)\n",
    "SS_F_x"
   ]
  },
  {
   "cell_type": "code",
   "execution_count": 95,
   "id": "88766acf",
   "metadata": {},
   "outputs": [
    {
     "data": {
      "text/plain": [
       "577.0568181818182"
      ]
     },
     "execution_count": 95,
     "metadata": {},
     "output_type": "execute_result"
    }
   ],
   "source": [
    "# остаточная сумма квадратов отклонений \n",
    "SS_ost_x=SS(X1,x1_m) + SS(X2,x2_m) + SS(X3,x3_m)\n",
    "SS_ost_x"
   ]
  },
  {
   "cell_type": "code",
   "execution_count": 96,
   "id": "3ee5d91f",
   "metadata": {},
   "outputs": [
    {
     "data": {
      "text/plain": [
       "830.964285714286"
      ]
     },
     "execution_count": 96,
     "metadata": {},
     "output_type": "execute_result"
    }
   ],
   "source": [
    "SS_F_x+SS_ost_x"
   ]
  },
  {
   "cell_type": "code",
   "execution_count": 97,
   "id": "257aa323",
   "metadata": {},
   "outputs": [
    {
     "data": {
      "text/plain": [
       "126.9537337662339"
      ]
     },
     "execution_count": 97,
     "metadata": {},
     "output_type": "execute_result"
    }
   ],
   "source": [
    "# Факторная дисперсия\n",
    "ss_F_x=SS_F_x/(k-1)\n",
    "ss_F_x"
   ]
  },
  {
   "cell_type": "code",
   "execution_count": 98,
   "id": "2b81a0ff",
   "metadata": {},
   "outputs": [
    {
     "data": {
      "text/plain": [
       "23.08227272727273"
      ]
     },
     "execution_count": 98,
     "metadata": {},
     "output_type": "execute_result"
    }
   ],
   "source": [
    "# Остаточная дисперсия\n",
    "ss_ost_x=SS_ost_x/(np.sum(N_x)-k)\n",
    "ss_ost_x"
   ]
  },
  {
   "cell_type": "code",
   "execution_count": 99,
   "id": "5a0fbf10",
   "metadata": {},
   "outputs": [
    {
     "data": {
      "text/plain": [
       "5.500053450812598"
      ]
     },
     "execution_count": 99,
     "metadata": {},
     "output_type": "execute_result"
    }
   ],
   "source": [
    "# Критерий Фишера наблюдаемый\n",
    "F_H_x=ss_F_x/ss_ost_x\n",
    "F_H_x"
   ]
  },
  {
   "cell_type": "code",
   "execution_count": 100,
   "id": "8694d3f3",
   "metadata": {},
   "outputs": [
    {
     "data": {
      "text/plain": [
       "2"
      ]
     },
     "execution_count": 100,
     "metadata": {},
     "output_type": "execute_result"
    }
   ],
   "source": [
    "# Степень свободы df1\n",
    "df1 = k-1\n",
    "df1"
   ]
  },
  {
   "cell_type": "code",
   "execution_count": 101,
   "id": "dbc09091",
   "metadata": {},
   "outputs": [
    {
     "data": {
      "text/plain": [
       "25"
      ]
     },
     "execution_count": 101,
     "metadata": {},
     "output_type": "execute_result"
    }
   ],
   "source": [
    "# Степень свободы df2\n",
    "df2 = np.sum(N_x)-k\n",
    "df2"
   ]
  },
  {
   "cell_type": "code",
   "execution_count": 102,
   "id": "1c5b9822",
   "metadata": {},
   "outputs": [],
   "source": [
    "# Критерий Фишера табличный при alfa=0.05 df1=2 df2=25\n",
    "F_kp=3.38"
   ]
  },
  {
   "cell_type": "markdown",
   "id": "7ec0c872",
   "metadata": {},
   "source": [
    "### При alfa=0.05 df1=2 df2=25 получаем F_крит < F_набл следовательно различия среднего роста взрослых футболистов, хоккеистов и штангистов статистически значимое, другими словами средний рост взрослого спортсмена находится в зависимости от рода занятий."
   ]
  },
  {
   "cell_type": "code",
   "execution_count": 103,
   "id": "2374f6e2",
   "metadata": {},
   "outputs": [],
   "source": [
    "# Критерий Фишера табличный при alfa=0.01 df1=2 df2=25\n",
    "F_kp=5.568"
   ]
  },
  {
   "cell_type": "markdown",
   "id": "919d4eee",
   "metadata": {},
   "source": [
    "### При alfa=0.01 df1=2 df2=25 получаем F_крит > F_набл следовательно различия среднего роста взрослых футболистов, хоккеистов и штангистов статистически не значимое, но так как alfa 1% (не большое) возрастает вероятность ошибки второго рода, то есть принятие гипотезы H0 при её ошибочности. "
   ]
  }
 ],
 "metadata": {
  "kernelspec": {
   "display_name": "Python 3",
   "language": "python",
   "name": "python3"
  },
  "language_info": {
   "codemirror_mode": {
    "name": "ipython",
    "version": 3
   },
   "file_extension": ".py",
   "mimetype": "text/x-python",
   "name": "python",
   "nbconvert_exporter": "python",
   "pygments_lexer": "ipython3",
   "version": "3.8.8"
  }
 },
 "nbformat": 4,
 "nbformat_minor": 5
}
