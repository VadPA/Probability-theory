{
 "cells": [
  {
   "cell_type": "code",
   "execution_count": 1,
   "id": "b541d07c",
   "metadata": {},
   "outputs": [],
   "source": [
    "import numpy as np"
   ]
  },
  {
   "cell_type": "code",
   "execution_count": 2,
   "id": "223eab88",
   "metadata": {},
   "outputs": [],
   "source": [
    "X1=np.array([35,45,190,200,40,70,54,150,120,110])\n",
    "X2=np.array([401,574,874,919,459,739,653,902,746,832])"
   ]
  },
  {
   "cell_type": "markdown",
   "id": "dd8b7eaf",
   "metadata": {},
   "source": [
    "#### Запишем уравнение прямой y = a + b*x  с рассчитанными коэффициентами в ручную"
   ]
  },
  {
   "cell_type": "code",
   "execution_count": 3,
   "id": "e68167fb",
   "metadata": {},
   "outputs": [
    {
     "data": {
      "text/plain": [
       "array([535.88, 562.08, 941.98, 968.18, 548.98, 627.58, 585.66, 837.18,\n",
       "       758.58, 732.38])"
      ]
     },
     "execution_count": 3,
     "metadata": {},
     "output_type": "execute_result"
    }
   ],
   "source": [
    "y_hat=444.18 + 2.62*X1\n",
    "y_hat"
   ]
  },
  {
   "cell_type": "markdown",
   "id": "3a5257a0",
   "metadata": {},
   "source": [
    "#### Изобразим на графике исходные данные и линейную регрессию"
   ]
  },
  {
   "cell_type": "code",
   "execution_count": 4,
   "id": "36cc753d",
   "metadata": {},
   "outputs": [
    {
     "data": {
      "image/png": "[encoded data removed]",
      "text/plain": [
       "<Figure size 432x288 with 1 Axes>"
      ]
     },
     "metadata": {
      "needs_background": "light"
     },
     "output_type": "display_data"
    }
   ],
   "source": [
    "import matplotlib.pyplot as plt\n",
    "%matplotlib inline\n",
    "plt.scatter(X1,X2)\n",
    "plt.plot(X1,444.18+2.62*X1)\n",
    "plt.show()"
   ]
  },
  {
   "cell_type": "markdown",
   "id": "29a8f94c",
   "metadata": {},
   "source": [
    "#### Рассчитаем функцию потерь"
   ]
  },
  {
   "cell_type": "code",
   "execution_count": 9,
   "id": "39439c1a",
   "metadata": {},
   "outputs": [
    {
     "data": {
      "text/plain": [
       "6470.417919999998"
      ]
     },
     "execution_count": 9,
     "metadata": {},
     "output_type": "execute_result"
    }
   ],
   "source": [
    "mse=((X2-y_hat)**2).sum()/X1.size\n",
    "mse"
   ]
  },
  {
   "cell_type": "markdown",
   "id": "38300662",
   "metadata": {},
   "source": [
    "### Расчёт коэффициентов матричным методом"
   ]
  },
  {
   "cell_type": "code",
   "execution_count": 10,
   "id": "d8b13c76",
   "metadata": {},
   "outputs": [],
   "source": [
    "import seaborn as sns"
   ]
  },
  {
   "cell_type": "code",
   "execution_count": 11,
   "id": "c203799f",
   "metadata": {},
   "outputs": [
    {
     "data": {
      "text/plain": [
       "array([[ 35],\n",
       "       [ 45],\n",
       "       [190],\n",
       "       [200],\n",
       "       [ 40],\n",
       "       [ 70],\n",
       "       [ 54],\n",
       "       [150],\n",
       "       [120],\n",
       "       [110]])"
      ]
     },
     "execution_count": 11,
     "metadata": {},
     "output_type": "execute_result"
    }
   ],
   "source": [
    "X1=X1.reshape((10,1))\n",
    "X1"
   ]
  },
  {
   "cell_type": "code",
   "execution_count": 12,
   "id": "d061690d",
   "metadata": {},
   "outputs": [
    {
     "data": {
      "text/plain": [
       "array([[401],\n",
       "       [574],\n",
       "       [874],\n",
       "       [919],\n",
       "       [459],\n",
       "       [739],\n",
       "       [653],\n",
       "       [902],\n",
       "       [746],\n",
       "       [832]])"
      ]
     },
     "execution_count": 12,
     "metadata": {},
     "output_type": "execute_result"
    }
   ],
   "source": [
    "X2=X2.reshape((10,1))\n",
    "X2"
   ]
  },
  {
   "cell_type": "code",
   "execution_count": 13,
   "id": "4fb193a1",
   "metadata": {},
   "outputs": [
    {
     "data": {
      "text/plain": [
       "array([[  1.,  35.],\n",
       "       [  1.,  45.],\n",
       "       [  1., 190.],\n",
       "       [  1., 200.],\n",
       "       [  1.,  40.],\n",
       "       [  1.,  70.],\n",
       "       [  1.,  54.],\n",
       "       [  1., 150.],\n",
       "       [  1., 120.],\n",
       "       [  1., 110.]])"
      ]
     },
     "execution_count": 13,
     "metadata": {},
     "output_type": "execute_result"
    }
   ],
   "source": [
    "X1=np.hstack([np.ones((10,1)),X1])\n",
    "X1"
   ]
  },
  {
   "cell_type": "code",
   "execution_count": 14,
   "id": "955ea1ab",
   "metadata": {},
   "outputs": [
    {
     "data": {
      "text/plain": [
       "array([[444.17735732],\n",
       "       [  2.62053888]])"
      ]
     },
     "execution_count": 14,
     "metadata": {},
     "output_type": "execute_result"
    }
   ],
   "source": [
    "b=np.dot(np.linalg.inv(np.dot(X1.T,X1)),X1.T@X2)\n",
    "b"
   ]
  },
  {
   "cell_type": "markdown",
   "id": "59772926",
   "metadata": {},
   "source": [
    "#### получили уравнение прямой y=444.18 + 2.62*x совпадающую с решением \"ручным\" способом"
   ]
  },
  {
   "cell_type": "markdown",
   "id": "e48f6442",
   "metadata": {},
   "source": [
    "#### произведем расчет без интерсепта"
   ]
  },
  {
   "cell_type": "code",
   "execution_count": 15,
   "id": "efe354ef",
   "metadata": {},
   "outputs": [
    {
     "data": {
      "text/plain": [
       "array([[ 35],\n",
       "       [ 45],\n",
       "       [190],\n",
       "       [200],\n",
       "       [ 40],\n",
       "       [ 70],\n",
       "       [ 54],\n",
       "       [150],\n",
       "       [120],\n",
       "       [110]])"
      ]
     },
     "execution_count": 15,
     "metadata": {},
     "output_type": "execute_result"
    }
   ],
   "source": [
    "X1=np.array([35,45,190,200,40,70,54,150,120,110])\n",
    "X1=X1.reshape((10,1))\n",
    "X1"
   ]
  },
  {
   "cell_type": "code",
   "execution_count": 16,
   "id": "d9a0a5c1",
   "metadata": {},
   "outputs": [
    {
     "data": {
      "text/plain": [
       "array([[5.88982042]])"
      ]
     },
     "execution_count": 16,
     "metadata": {},
     "output_type": "execute_result"
    }
   ],
   "source": [
    "b_=np.dot(np.linalg.inv(np.dot(X1.T,X1)),X1.T@X2)\n",
    "b_"
   ]
  },
  {
   "cell_type": "code",
   "execution_count": 17,
   "id": "35b04b6d",
   "metadata": {},
   "outputs": [
    {
     "data": {
      "image/png": "[encoded data removed]",
      "text/plain": [
       "<Figure size 432x288 with 1 Axes>"
      ]
     },
     "metadata": {
      "needs_background": "light"
     },
     "output_type": "display_data"
    }
   ],
   "source": [
    "plt.scatter(X1,X2)\n",
    "plt.plot(X1,5.8898*X1)\n",
    "plt.show()"
   ]
  },
  {
   "cell_type": "code",
   "execution_count": 18,
   "id": "b616c2aa",
   "metadata": {},
   "outputs": [
    {
     "data": {
      "text/plain": [
       "array([ 206.143 ,  265.041 , 1119.062 , 1177.96  ,  235.592 ,  412.286 ,\n",
       "        318.0492,  883.47  ,  706.776 ,  647.878 ])"
      ]
     },
     "execution_count": 18,
     "metadata": {},
     "output_type": "execute_result"
    }
   ],
   "source": [
    "X1=np.array([35,45,190,200,40,70,54,150,120,110])\n",
    "X2=np.array([401,574,874,919,459,739,653,902,746,832])\n",
    "y_hat_2=5.8898*X1\n",
    "y_hat_2"
   ]
  },
  {
   "cell_type": "code",
   "execution_count": 19,
   "id": "16215301",
   "metadata": {},
   "outputs": [
    {
     "data": {
      "text/plain": [
       "56516.858421464"
      ]
     },
     "execution_count": 19,
     "metadata": {},
     "output_type": "execute_result"
    }
   ],
   "source": [
    "mse_2=((X2-y_hat_2)**2).sum()/X1.size\n",
    "mse_2"
   ]
  },
  {
   "cell_type": "markdown",
   "id": "e9124b15",
   "metadata": {},
   "source": [
    "#### Без расчета интерсепта значение функции потерь значительно превышает функцию потерь расчитанную с интерсептом"
   ]
  },
  {
   "cell_type": "markdown",
   "id": "6494c823",
   "metadata": {},
   "source": [
    "### Градиентный спуск"
   ]
  },
  {
   "cell_type": "code",
   "execution_count": 20,
   "id": "43ce651c",
   "metadata": {},
   "outputs": [],
   "source": [
    "X1=np.array([35,45,190,200,40,70,54,150,120,110])\n",
    "X2=np.array([401,574,874,919,459,739,653,902,746,832])"
   ]
  },
  {
   "cell_type": "code",
   "execution_count": 21,
   "id": "84ce7e01",
   "metadata": {},
   "outputs": [],
   "source": [
    "N=X1.size"
   ]
  },
  {
   "cell_type": "code",
   "execution_count": 22,
   "id": "e97b8960",
   "metadata": {},
   "outputs": [],
   "source": [
    "def mse_(B1, y=X2, x=X1, n=N):\n",
    "    return np.sum((B1*x-y)**2)/n"
   ]
  },
  {
   "cell_type": "code",
   "execution_count": 23,
   "id": "65d41646",
   "metadata": {},
   "outputs": [
    {
     "data": {
      "text/plain": [
       "1e-06"
      ]
     },
     "execution_count": 23,
     "metadata": {},
     "output_type": "execute_result"
    }
   ],
   "source": [
    "alfa=1e-6\n",
    "alfa"
   ]
  },
  {
   "cell_type": "code",
   "execution_count": 40,
   "id": "3948248b",
   "metadata": {},
   "outputs": [],
   "source": [
    "B1=0.05"
   ]
  },
  {
   "cell_type": "code",
   "execution_count": 41,
   "id": "b3ec5dba",
   "metadata": {},
   "outputs": [
    {
     "name": "stdout",
     "output_type": "stream",
     "text": [
      "B1=0.21090574\n",
      "B1=0.367378011964632\n",
      "B1=0.519538972125368\n",
      "B1=0.6675074109186033\n",
      "B1=0.8113988457240808\n",
      "B1=0.9513256110480761\n",
      "B1=1.0873969462217463\n",
      "B1=1.2197190806831093\n",
      "B1=1.3483953169092315\n",
      "B1=1.473526111063368\n"
     ]
    }
   ],
   "source": [
    "for i in range(10):\n",
    "    B1-= alfa*(2/N)*np.sum((B1*X1-X2)*X1)\n",
    "    print('B1={}'.format(B1))"
   ]
  },
  {
   "cell_type": "code",
   "execution_count": 42,
   "id": "1d5b469f",
   "metadata": {},
   "outputs": [
    {
     "name": "stdout",
     "output_type": "stream",
     "text": [
      "Iteration: 0, B1=1.5952091514200168, mse=310608.14226558787\n",
      "Iteration: 5, B1=2.155142818482533, mse=248670.3511809635\n",
      "Iteration: 10, B1=2.642072040697109, mse=201830.63786711884\n",
      "Iteration: 15, B1=3.065515175828364, mse=166408.6651925429\n",
      "Iteration: 20, B1=3.4337495731691168, mse=139621.22224319543\n",
      "Iteration: 25, B1=3.753973376875077, mse=119363.53907131562\n",
      "Iteration: 30, B1=4.0324462332959925, mse=104043.90859115956\n",
      "Iteration: 35, B1=4.274611652811244, mse=92458.62136669029\n",
      "Iteration: 40, B1=4.485203418065221, mse=83697.38654139159\n",
      "Iteration: 45, B1=4.668338118641217, mse=77071.8075482438\n",
      "Iteration: 50, B1=4.82759562101607, mse=72061.29272130622\n",
      "Iteration: 55, B1=4.966089046799959, mse=68272.15084300013\n",
      "Iteration: 60, B1=5.086525627176635, mse=65406.65764123494\n",
      "Iteration: 65, B1=5.191259623109853, mse=63239.66269803348\n",
      "Iteration: 70, B1=5.2823383457855755, mse=61600.89870411852\n",
      "Iteration: 75, B1=5.361542176884795, mse=60361.603044395146\n",
      "Iteration: 80, B1=5.430419370992238, mse=59424.400532067535\n",
      "Iteration: 85, B1=5.49031632044878, mse=58715.65234738552\n",
      "Iteration: 90, B1=5.542403874256549, mse=58179.670014130264\n",
      "Iteration: 95, B1=5.5877002255113934, mse=57774.3397885712\n",
      "Iteration: 100, B1=5.627090814759917, mse=57467.81365597659\n"
     ]
    }
   ],
   "source": [
    "for i in range(101):\n",
    "    B1-= alfa*(2/N)*np.sum((B1*X1-X2)*X1)\n",
    "    if i%5==0:\n",
    "        print('Iteration: {i}, B1={B1}, mse={mse}'.format(i=i, B1=B1, mse=mse_(B1)))"
   ]
  },
  {
   "cell_type": "code",
   "execution_count": 44,
   "id": "fbedffb4",
   "metadata": {},
   "outputs": [
    {
     "name": "stdout",
     "output_type": "stream",
     "text": [
      "Iteration: 0, B1=5.889820420132506, mse=56516.85841571943\n",
      "Iteration: 100, B1=5.889820420132673, mse=56516.85841571943\n",
      "Iteration: 200, B1=5.889820420132673, mse=56516.85841571943\n",
      "Iteration: 300, B1=5.889820420132673, mse=56516.85841571943\n",
      "Iteration: 400, B1=5.889820420132673, mse=56516.85841571943\n",
      "Iteration: 500, B1=5.889820420132673, mse=56516.85841571943\n",
      "Iteration: 600, B1=5.889820420132673, mse=56516.85841571943\n",
      "Iteration: 700, B1=5.889820420132673, mse=56516.85841571943\n",
      "Iteration: 800, B1=5.889820420132673, mse=56516.85841571943\n",
      "Iteration: 900, B1=5.889820420132673, mse=56516.85841571943\n",
      "Iteration: 1000, B1=5.889820420132673, mse=56516.85841571943\n"
     ]
    }
   ],
   "source": [
    "for i in range(1001):\n",
    "    B1-= alfa*(2/N)*np.sum((B1*X1-X2)*X1)\n",
    "    if i%100==0:\n",
    "        print('Iteration: {i}, B1={B1}, mse={mse}'.format(i=i, B1=B1, mse=mse_(B1)))"
   ]
  },
  {
   "cell_type": "markdown",
   "id": "47c2fe1a",
   "metadata": {},
   "source": [
    "#### получили коэффициент b1, y=5.8898*x"
   ]
  },
  {
   "cell_type": "code",
   "execution_count": null,
   "id": "6efca25e",
   "metadata": {},
   "outputs": [],
   "source": []
  }
 ],
 "metadata": {
  "kernelspec": {
   "display_name": "Python 3",
   "language": "python",
   "name": "python3"
  },
  "language_info": {
   "codemirror_mode": {
    "name": "ipython",
    "version": 3
   },
   "file_extension": ".py",
   "mimetype": "text/x-python",
   "name": "python",
   "nbconvert_exporter": "python",
   "pygments_lexer": "ipython3",
   "version": "3.8.8"
  }
 },
 "nbformat": 4,
 "nbformat_minor": 5
}
